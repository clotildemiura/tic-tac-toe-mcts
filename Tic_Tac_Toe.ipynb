{
 "cells": [
  {
   "cell_type": "markdown",
   "metadata": {
    "colab": {},
    "colab_type": "code",
    "id": "LcN4bw2Y5xJE"
   },
   "source": [
    "<center> <h1> Tic Tac Toe avec le  Monte Carlo tree search </h1> </center>\n",
    "\n"
   ]
  },
  {
   "cell_type": "code",
   "execution_count": 2,
   "metadata": {},
   "outputs": [],
   "source": [
    "import numpy as np \n",
    "import pandas as pd\n",
    "import random\n",
    "from tqdm import tqdm\n",
    "import pickle\n",
    "\n",
    "\n",
    "import matplotlib.pyplot as plt\n",
    "import seaborn as sns\n",
    "sns.set(color_codes=True)\n",
    "\n",
    "from mytictactoe import MyTicTacToe"
   ]
  },
  {
   "cell_type": "markdown",
   "metadata": {},
   "source": [
    "## Jeu interactif"
   ]
  },
  {
   "cell_type": "code",
   "execution_count": 3,
   "metadata": {},
   "outputs": [
    {
     "name": "stdout",
     "output_type": "stream",
     "text": [
      "Player is [X] and computer is [O]\n",
      "Player starts\n",
      "  |   |   \n",
      "---------\n",
      "  |   |   \n",
      "---------\n",
      "  |   |   \n",
      "---------\n",
      "# Make your move ! [1-9] : \n"
     ]
    },
    {
     "name": "stdin",
     "output_type": "stream",
     "text": [
      " 3\n"
     ]
    },
    {
     "name": "stdout",
     "output_type": "stream",
     "text": [
      "O |   | X \n",
      "---------\n",
      "  |   |   \n",
      "---------\n",
      "  |   |   \n",
      "---------\n",
      "# Make your move ! [1-9] : \n"
     ]
    },
    {
     "name": "stdin",
     "output_type": "stream",
     "text": [
      " 5\n"
     ]
    },
    {
     "name": "stdout",
     "output_type": "stream",
     "text": [
      "O |   | X \n",
      "---------\n",
      "  | X |   \n",
      "---------\n",
      "O |   |   \n",
      "---------\n",
      "# Make your move ! [1-9] : \n"
     ]
    },
    {
     "name": "stdin",
     "output_type": "stream",
     "text": [
      " 4\n"
     ]
    },
    {
     "name": "stdout",
     "output_type": "stream",
     "text": [
      "O |   | X \n",
      "---------\n",
      "X | X | O \n",
      "---------\n",
      "O |   |   \n",
      "---------\n",
      "# Make your move ! [1-9] : \n"
     ]
    },
    {
     "name": "stdin",
     "output_type": "stream",
     "text": [
      " 8\n"
     ]
    },
    {
     "name": "stdout",
     "output_type": "stream",
     "text": [
      "O | O | X \n",
      "---------\n",
      "X | X | O \n",
      "---------\n",
      "O | X |   \n",
      "---------\n",
      "# Make your move ! [1-9] : \n"
     ]
    },
    {
     "name": "stdin",
     "output_type": "stream",
     "text": [
      " 9\n"
     ]
    },
    {
     "name": "stdout",
     "output_type": "stream",
     "text": [
      "O | O | X \n",
      "---------\n",
      "X | X | O \n",
      "---------\n",
      "O | X | X \n",
      "---------\n",
      "%%% Draw! %%%"
     ]
    }
   ],
   "source": [
    "tictactoe = MyTicTacToe(interactive=True)\n",
    "tictactoe.play()"
   ]
  },
  {
   "cell_type": "markdown",
   "metadata": {},
   "source": [
    "# Politique déterminée par le  Monte Carlo tree search"
   ]
  },
  {
   "cell_type": "code",
   "execution_count": 4,
   "metadata": {},
   "outputs": [
    {
     "name": "stdout",
     "output_type": "stream",
     "text": [
      "Player is [X] and computer is [O]\n",
      "Player starts\n",
      "  |   |   \n",
      "---------\n",
      "  |   |   \n",
      "---------\n",
      "  |   |   \n",
      "---------\n",
      "# Make your move ! [1-9] : \n",
      "  | O |   \n",
      "---------\n",
      "  |   |   \n",
      "---------\n",
      "X |   |   \n",
      "---------\n",
      "# Make your move ! [1-9] : \n",
      "X | O |   \n",
      "---------\n",
      "O |   |   \n",
      "---------\n",
      "X |   |   \n",
      "---------\n",
      "# Make your move ! [1-9] : \n",
      "X | O |   \n",
      "---------\n",
      "O | O |   \n",
      "---------\n",
      "X |   | X \n",
      "---------\n",
      "# Make your move ! [1-9] : \n",
      "X | O |   \n",
      "---------\n",
      "O | O |   \n",
      "---------\n",
      "X | X | X \n",
      "---------\n",
      "*** Congratulations ! You won ! ***"
     ]
    }
   ],
   "source": [
    "tictactoe = MyTicTacToe(interactive=False, policy='mcts')\n",
    "tictactoe.play()"
   ]
  },
  {
   "cell_type": "markdown",
   "metadata": {},
   "source": [
    "# Politique basique \n",
    "\n",
    "- Les deux joueurs jouent la même politique basique décrite dans le READ ME"
   ]
  },
  {
   "cell_type": "code",
   "execution_count": 4,
   "metadata": {},
   "outputs": [
    {
     "name": "stdout",
     "output_type": "stream",
     "text": [
      "Player is [X] and computer is [O]\n",
      "Computer starts\n",
      "  | O |   \n",
      "---------\n",
      "  |   |   \n",
      "---------\n",
      "  |   |   \n",
      "---------\n",
      "# Make your move ! [1-9] : \n",
      "  | O |   \n",
      "---------\n",
      "  | O |   \n",
      "---------\n",
      "X |   |   \n",
      "---------\n",
      "# Make your move ! [1-9] : \n",
      "  | O |   \n",
      "---------\n",
      "  | O |   \n",
      "---------\n",
      "X | X | O \n",
      "---------\n",
      "# Make your move ! [1-9] : \n",
      "X | O |   \n",
      "---------\n",
      "O | O |   \n",
      "---------\n",
      "X | X | O \n",
      "---------\n",
      "# Make your move ! [1-9] : \n",
      "X | O | O \n",
      "---------\n",
      "O | O | X \n",
      "---------\n",
      "X | X | O \n",
      "---------\n",
      "%%% Draw! %%%"
     ]
    }
   ],
   "source": [
    "tictactoe = MyTicTacToe(interactive=False, policy='basic')\n",
    "tictactoe.play()"
   ]
  },
  {
   "cell_type": "markdown",
   "metadata": {},
   "source": [
    "# Comparisons of performances of the basic policy and the Monte Carlo Tree search policy"
   ]
  },
  {
   "cell_type": "code",
   "execution_count": 5,
   "metadata": {},
   "outputs": [],
   "source": [
    "#run 1000 games with basic policy\n",
    "n_games = 1000\n",
    "res_basic = []\n",
    "for i in range(n_games):\n",
    "    tictactoe = MyTicTacToe(interactive=False, policy='basic', verbose=False)\n",
    "    tictactoe.play()\n",
    "    res_basic.append(tictactoe.final_result)\n",
    "    "
   ]
  },
  {
   "cell_type": "markdown",
   "metadata": {},
   "source": [
    "- Ne pas runner la cellule suivante sauf si vous voulez attendre 35 minutes (avec 16 GB de RAM)"
   ]
  },
  {
   "cell_type": "code",
   "execution_count": 4,
   "metadata": {},
   "outputs": [
    {
     "name": "stderr",
     "output_type": "stream",
     "text": [
      "100%|██████████| 1000/1000 [35:05<00:00,  2.11s/it]\n"
     ]
    }
   ],
   "source": [
    "#run 1000 games with monte carlo tree search. \n",
    "# it runs 1000 simulations before each move to determine the best one\n",
    "\n",
    "#res_mcts = []\n",
    "#for i in tqdm(range(n_games)):\n",
    "    #tictactoe = MyTicTacToe(interactive=False, policy='mcts', verbose=False)\n",
    "    #tictactoe.play()\n",
    "    #res_mcts.append(tictactoe.final_result)\n",
    "    \n"
   ]
  },
  {
   "cell_type": "code",
   "execution_count": 5,
   "metadata": {},
   "outputs": [],
   "source": [
    "#pickle.dump(res_mcts, open('mcts_results_optimal', 'wb'))"
   ]
  },
  {
   "cell_type": "code",
   "execution_count": 6,
   "metadata": {},
   "outputs": [],
   "source": [
    "res_basic = pd.Series(res_basic).value_counts().sort_index()\n"
   ]
  },
  {
   "cell_type": "code",
   "execution_count": 7,
   "metadata": {},
   "outputs": [],
   "source": [
    "res_mcts_1000 = pickle.load(open('mcts_results_optimal','rb'))\n",
    "res_mcts_1000 = pd.Series(res_mcts_1000).value_counts().sort_index()"
   ]
  },
  {
   "cell_type": "code",
   "execution_count": 8,
   "metadata": {},
   "outputs": [
    {
     "data": {
      "text/html": [
       "<div>\n",
       "<style scoped>\n",
       "    .dataframe tbody tr th:only-of-type {\n",
       "        vertical-align: middle;\n",
       "    }\n",
       "\n",
       "    .dataframe tbody tr th {\n",
       "        vertical-align: top;\n",
       "    }\n",
       "\n",
       "    .dataframe thead th {\n",
       "        text-align: right;\n",
       "    }\n",
       "</style>\n",
       "<table border=\"1\" class=\"dataframe\">\n",
       "  <thead>\n",
       "    <tr style=\"text-align: right;\">\n",
       "      <th></th>\n",
       "      <th>defeat</th>\n",
       "      <th>draw</th>\n",
       "      <th>victory</th>\n",
       "      <th>average_score</th>\n",
       "    </tr>\n",
       "  </thead>\n",
       "  <tbody>\n",
       "    <tr>\n",
       "      <td>basic_agent</td>\n",
       "      <td>180</td>\n",
       "      <td>645</td>\n",
       "      <td>175</td>\n",
       "      <td>-0.005</td>\n",
       "    </tr>\n",
       "    <tr>\n",
       "      <td>mcts_agent</td>\n",
       "      <td>1</td>\n",
       "      <td>724</td>\n",
       "      <td>275</td>\n",
       "      <td>0.274</td>\n",
       "    </tr>\n",
       "  </tbody>\n",
       "</table>\n",
       "</div>"
      ],
      "text/plain": [
       "             defeat  draw  victory  average_score\n",
       "basic_agent     180   645      175         -0.005\n",
       "mcts_agent        1   724      275          0.274"
      ]
     },
     "execution_count": 8,
     "metadata": {},
     "output_type": "execute_result"
    }
   ],
   "source": [
    "res = pd.concat([res_basic, res_mcts_1000], axis=1).transpose()\n",
    "res.fillna(0, inplace=True)\n",
    "res.columns=['defeat','draw','victory']\n",
    "res.index = ['basic_agent', 'mcts_agent']\n",
    "res['average_score'] = (-res['defeat']+res['victory'])/1000\n",
    "res"
   ]
  },
  {
   "cell_type": "markdown",
   "metadata": {},
   "source": [
    "#### Convergence de l'algorithme MCTS\n",
    "-  Après avoir joué 1000 jeux avec 1000 simulations par coup, on considère qu'on a une bonne estimation des performances optimales moyennes du MCTS\n",
    "- On cherche à savoir si moins de simulations par coup permet d'atteindre un niveau comparable de performaces"
   ]
  },
  {
   "cell_type": "markdown",
   "metadata": {},
   "source": [
    "- Idem c'est long à runner. Vous pouvez récupérer les résultats grâce au pickle"
   ]
  },
  {
   "cell_type": "code",
   "execution_count": 19,
   "metadata": {},
   "outputs": [
    {
     "name": "stderr",
     "output_type": "stream",
     "text": [
      "100%|██████████| 1000/1000 [00:19<00:00, 52.06it/s]\n",
      "100%|██████████| 1000/1000 [01:41<00:00,  9.85it/s]\n",
      "100%|██████████| 1000/1000 [03:36<00:00,  4.61it/s]\n",
      "100%|██████████| 1000/1000 [18:02<00:00,  1.08s/it]\n"
     ]
    }
   ],
   "source": [
    "#n_games = 1000\n",
    "#sim = {} #dictionnary with the results for different monte carlo tree\n",
    "\n",
    "#for n in [10, 50, 100, 500]: #iterate over the possible number of simulations of the tree\n",
    "    #res_mcts = []\n",
    "    #for i in tqdm(range(n_games)):\n",
    "        #tictactoe = MyTicTacToe(interactive=False, n_sim=n, policy='mcts', verbose=False)\n",
    "        #tictactoe.play()\n",
    "        #res_mcts.append(tictactoe.final_result)\n",
    "    #sim['mcts_'+str(n)+'sim'] = res_mcts\n",
    "    \n"
   ]
  },
  {
   "cell_type": "code",
   "execution_count": 20,
   "metadata": {},
   "outputs": [],
   "source": [
    "#pickle.dump(sim, open('simulations', 'wb'))"
   ]
  },
  {
   "cell_type": "code",
   "execution_count": 9,
   "metadata": {},
   "outputs": [],
   "source": [
    "sim = pickle.load(open('simulations', 'rb'))"
   ]
  },
  {
   "cell_type": "code",
   "execution_count": 10,
   "metadata": {},
   "outputs": [
    {
     "data": {
      "text/html": [
       "<div>\n",
       "<style scoped>\n",
       "    .dataframe tbody tr th:only-of-type {\n",
       "        vertical-align: middle;\n",
       "    }\n",
       "\n",
       "    .dataframe tbody tr th {\n",
       "        vertical-align: top;\n",
       "    }\n",
       "\n",
       "    .dataframe thead th {\n",
       "        text-align: right;\n",
       "    }\n",
       "</style>\n",
       "<table border=\"1\" class=\"dataframe\">\n",
       "  <thead>\n",
       "    <tr style=\"text-align: right;\">\n",
       "      <th></th>\n",
       "      <th>defeat</th>\n",
       "      <th>draw</th>\n",
       "      <th>victory</th>\n",
       "      <th>average_score</th>\n",
       "    </tr>\n",
       "  </thead>\n",
       "  <tbody>\n",
       "    <tr>\n",
       "      <td>basic_agent</td>\n",
       "      <td>180</td>\n",
       "      <td>645</td>\n",
       "      <td>175</td>\n",
       "      <td>-0.005</td>\n",
       "    </tr>\n",
       "    <tr>\n",
       "      <td>mcts_agent</td>\n",
       "      <td>1</td>\n",
       "      <td>724</td>\n",
       "      <td>275</td>\n",
       "      <td>0.274</td>\n",
       "    </tr>\n",
       "  </tbody>\n",
       "</table>\n",
       "</div>"
      ],
      "text/plain": [
       "             defeat  draw  victory  average_score\n",
       "basic_agent     180   645      175         -0.005\n",
       "mcts_agent        1   724      275          0.274"
      ]
     },
     "execution_count": 10,
     "metadata": {},
     "output_type": "execute_result"
    }
   ],
   "source": [
    "#add the results to res_data frame\n",
    "res = pd.concat([res_basic, res_mcts_1000], axis=1).transpose()\n",
    "res.fillna(0, inplace=True)\n",
    "res.columns=['defeat','draw','victory']\n",
    "res.index = ['basic_agent', 'mcts_agent']\n",
    "res['average_score'] = (-res['defeat']+res['victory'])/1000\n",
    "res"
   ]
  },
  {
   "cell_type": "code",
   "execution_count": 12,
   "metadata": {},
   "outputs": [],
   "source": [
    "res_mcts_10 = sim['mcts_10sim']\n",
    "res_mcts_10 = pd.Series(res_mcts_10).value_counts().sort_index()\n",
    "\n",
    "res_mcts_50 = sim['mcts_50sim']\n",
    "res_mcts_50 = pd.Series(res_mcts_50).value_counts().sort_index()\n",
    "\n",
    "res_mcts_100 = sim['mcts_100sim']\n",
    "res_mcts_100 = pd.Series(res_mcts_100).value_counts().sort_index()\n",
    "\n",
    "res_mcts_500 = sim['mcts_500sim']\n",
    "res_mcts_500 = pd.Series(res_mcts_500).value_counts().sort_index()"
   ]
  },
  {
   "cell_type": "code",
   "execution_count": 13,
   "metadata": {},
   "outputs": [
    {
     "data": {
      "text/html": [
       "<div>\n",
       "<style scoped>\n",
       "    .dataframe tbody tr th:only-of-type {\n",
       "        vertical-align: middle;\n",
       "    }\n",
       "\n",
       "    .dataframe tbody tr th {\n",
       "        vertical-align: top;\n",
       "    }\n",
       "\n",
       "    .dataframe thead th {\n",
       "        text-align: right;\n",
       "    }\n",
       "</style>\n",
       "<table border=\"1\" class=\"dataframe\">\n",
       "  <thead>\n",
       "    <tr style=\"text-align: right;\">\n",
       "      <th></th>\n",
       "      <th>defeat</th>\n",
       "      <th>draw</th>\n",
       "      <th>victory</th>\n",
       "      <th>average_score</th>\n",
       "    </tr>\n",
       "  </thead>\n",
       "  <tbody>\n",
       "    <tr>\n",
       "      <td>basic_agent</td>\n",
       "      <td>180</td>\n",
       "      <td>645</td>\n",
       "      <td>175</td>\n",
       "      <td>-5</td>\n",
       "    </tr>\n",
       "    <tr>\n",
       "      <td>mcts_10_agent</td>\n",
       "      <td>547</td>\n",
       "      <td>261</td>\n",
       "      <td>192</td>\n",
       "      <td>-355</td>\n",
       "    </tr>\n",
       "    <tr>\n",
       "      <td>mcts_50_agent</td>\n",
       "      <td>225</td>\n",
       "      <td>512</td>\n",
       "      <td>263</td>\n",
       "      <td>38</td>\n",
       "    </tr>\n",
       "    <tr>\n",
       "      <td>mcts_100_agent</td>\n",
       "      <td>115</td>\n",
       "      <td>582</td>\n",
       "      <td>303</td>\n",
       "      <td>188</td>\n",
       "    </tr>\n",
       "    <tr>\n",
       "      <td>mcts_500_agent</td>\n",
       "      <td>11</td>\n",
       "      <td>685</td>\n",
       "      <td>304</td>\n",
       "      <td>293</td>\n",
       "    </tr>\n",
       "    <tr>\n",
       "      <td>mcts_1000_agent</td>\n",
       "      <td>1</td>\n",
       "      <td>724</td>\n",
       "      <td>275</td>\n",
       "      <td>274</td>\n",
       "    </tr>\n",
       "  </tbody>\n",
       "</table>\n",
       "</div>"
      ],
      "text/plain": [
       "                 defeat  draw  victory  average_score\n",
       "basic_agent         180   645      175             -5\n",
       "mcts_10_agent       547   261      192           -355\n",
       "mcts_50_agent       225   512      263             38\n",
       "mcts_100_agent      115   582      303            188\n",
       "mcts_500_agent       11   685      304            293\n",
       "mcts_1000_agent       1   724      275            274"
      ]
     },
     "execution_count": 13,
     "metadata": {},
     "output_type": "execute_result"
    }
   ],
   "source": [
    "final_results = pd.concat([res_basic, res_mcts_10, \n",
    "                           res_mcts_50, res_mcts_100,\n",
    "                          res_mcts_500, res_mcts_1000], axis=1).transpose()\n",
    "final_results.fillna(0, inplace=True)\n",
    "final_results.columns=['defeat','draw','victory']\n",
    "final_results.index = ['basic_agent', 'mcts_10_agent', \n",
    "                       'mcts_50_agent', 'mcts_100_agent',\n",
    "                      'mcts_500_agent', 'mcts_1000_agent']\n",
    "final_results['average_score'] = (-final_results['defeat']+final_results['victory'])\n",
    "final_results"
   ]
  },
  {
   "cell_type": "code",
   "execution_count": 14,
   "metadata": {},
   "outputs": [
    {
     "data": {
      "image/png": "[encoded data removed]",
      "text/plain": [
       "<Figure size 720x504 with 1 Axes>"
      ]
     },
     "metadata": {
      "needs_background": "light"
     },
     "output_type": "display_data"
    }
   ],
   "source": [
    "plt.figure(figsize=(10,7))\n",
    "plt.plot(final_results.index, final_results.defeat, label='defeat')\n",
    "plt.plot(final_results.index, final_results.draw, label = 'draw')\n",
    "plt.plot(final_results.index, final_results.victory, label='victory')\n",
    "plt.plot(final_results.index, final_results.average_score, label='average score')\n",
    "plt.ylabel('counts')\n",
    "plt.title('Performances of the different agents')\n",
    "plt.legend(loc='best')\n",
    "plt.show()"
   ]
  },
  {
   "cell_type": "markdown",
   "metadata": {},
   "source": [
    "- Le pire agent en termes de score moyen est le Monte Carlo Tree search qui n'effectue que 10 simulations avant de jouer le coup suivant. Cela est visiblement beaucoup trop peu puisqu'il fait moins bien que l'agent qui joue avec la politique basique.\n",
    "- A partir de 50 simulations et ce jusqu'à 500, le score moyen augmente. Mais l'on n'observe pas vraiment de différences entre 500 et 1000 simulations.\n",
    "- Cependant l'algorithme qui utilise 1000 simulations ne perd quasiment plus ! Une seule défaite sur 1000 contre 11 pour celui qui effectue 500 simulations pour détermniner le meilleur coup.\n",
    "- On remarque aussi que le nombre de matchs nul augmente avec le nombre de simulations et par conséquent le nombre de défaites diminue. Cependant, le nombre de victoires semble approximativement stagner à partir de 100 simulations. Il n'est en effet plus possible pour l'algorithme de s'améliorer en gagnant beaucoup car le jeu Tic Tac Toe est un jeu où il y a souvent matchs nul. En revanche, l'algo s'améliore en transformant les défaites en match nul. Ainsi, vec une politique optimale, on ne perd qu'avec une probabilité extrêmement faible. Mais on ne gagne pas souvent non plus. "
   ]
  },
  {
   "cell_type": "code",
   "execution_count": null,
   "metadata": {},
   "outputs": [],
   "source": []
  }
 ],
 "metadata": {
  "accelerator": "GPU",
  "colab": {
   "collapsed_sections": [],
   "name": "Tic_Tac_Toe.ipynb",
   "provenance": []
  },
  "kernelspec": {
   "display_name": "Python 3",
   "language": "python",
   "name": "python3"
  },
  "language_info": {
   "codemirror_mode": {
    "name": "ipython",
    "version": 3
   },
   "file_extension": ".py",
   "mimetype": "text/x-python",
   "name": "python",
   "nbconvert_exporter": "python",
   "pygments_lexer": "ipython3",
   "version": "3.7.4"
  }
 },
 "nbformat": 4,
 "nbformat_minor": 4
}
